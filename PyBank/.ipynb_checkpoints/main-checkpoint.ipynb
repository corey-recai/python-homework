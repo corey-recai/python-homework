{
 "cells": [
  {
   "cell_type": "code",
   "execution_count": 6,
   "metadata": {},
   "outputs": [
    {
     "name": "stdout",
     "output_type": "stream",
     "text": [
      "Financial Analysis\n",
      "----------------------------\n",
      "Total Months: 86\n",
      "Total: $38,382,578.00\n"
     ]
    }
   ],
   "source": [
    "# Import modules\n",
    "import pandas as pd\n",
    "import numpy as np\n",
    "import csv\n",
    "\n",
    "# Read CSV file with Pandas and render a DataFrame\n",
    "df = pd.read_csv (r'budget_data.csv')\n",
    "\n",
    "# Count the number of rows in the Profit/Losses column of the DataFrame\n",
    "count = df['Profit/Losses'].count()\n",
    "\n",
    "# Print the heading of the output\n",
    "print(\"Financial Analysis\")\n",
    "print(\"----------------------------\")\n",
    "\n",
    "# Print the total number of months included in the dataset\n",
    "print(f\"Total Months: {count}\")\n",
    "\n",
    "# Calculate the net total amount of Profit/Losses over the entire period\n",
    "sum = df['Profit/Losses'].sum()\n",
    "\n",
    "# Add formatting to net total amount of Profit/Losses\n",
    "sum_with_commas = '{:,.2f}'.format(sum)\n",
    "\n",
    "# Print the net total amount of Profit/Losses over the entire period\n",
    "print(f\"Total: ${sum_with_commas}\")"
   ]
  },
  {
   "cell_type": "code",
   "execution_count": null,
   "metadata": {},
   "outputs": [],
   "source": []
  }
 ],
 "metadata": {
  "kernelspec": {
   "display_name": "Python 3",
   "language": "python",
   "name": "python3"
  },
  "language_info": {
   "codemirror_mode": {
    "name": "ipython",
    "version": 3
   },
   "file_extension": ".py",
   "mimetype": "text/x-python",
   "name": "python",
   "nbconvert_exporter": "python",
   "pygments_lexer": "ipython3",
   "version": "3.7.6"
  }
 },
 "nbformat": 4,
 "nbformat_minor": 4
}
