{
 "cells": [
  {
   "cell_type": "code",
   "execution_count": 108,
   "metadata": {},
   "outputs": [
    {
     "name": "stdout",
     "output_type": "stream",
     "text": [
      "Financial Analysis\n",
      "----------------------------\n",
      "Total Months: 86\n",
      "Total: $38,382,578.00\n",
      "Average Change: -$2,315.12\n",
      "Greatest Increase in Profits: $1,926,159.00\n",
      "        Date  Profit/Losses  monthly_diff\n",
      "25  Feb-2012        1170593     1926159.0\n",
      "Feb-2012\n"
     ]
    }
   ],
   "source": [
    "# Import modules\n",
    "import pandas as pd\n",
    "import numpy as np\n",
    "import csv\n",
    "\n",
    "# Read CSV file with Pandas and render a DataFrame\n",
    "df = pd.read_csv (r'budget_data.csv')\n",
    "\n",
    "# Count the number of rows in the Profit/Losses column of the DataFrame\n",
    "count = df['Profit/Losses'].count()\n",
    "\n",
    "# Print the heading of the output\n",
    "print(\"Financial Analysis\")\n",
    "print(\"----------------------------\")\n",
    "\n",
    "# Print the total number of months included in the dataset\n",
    "print(f\"Total Months: {count}\")\n",
    "\n",
    "# Calculate the net total amount of Profit/Losses over the entire period\n",
    "sum = df['Profit/Losses'].sum()\n",
    "\n",
    "# Add formatting to net total amount of Profit/Losses\n",
    "sum_with_commas = '{:,.2f}'.format(sum)\n",
    "\n",
    "# Print the net total amount of Profit/Losses over the entire period\n",
    "print(f\"Total: ${sum_with_commas}\")\n",
    "\n",
    "# Calculate the average of the changes in Profit/Losses over the entire period\n",
    "monthly_diff = df['Profit/Losses'].diff()\n",
    "monthly_diff_count = monthly_diff.count()\n",
    "\n",
    "avg = monthly_diff.sum()/monthly_diff_count\n",
    "\n",
    "\n",
    "# Add formatting to net total amount of Profit/Losses\n",
    "avg_with_commas = '{:,.2f}'.format(avg)\n",
    "\n",
    "# Print the average of the changes in Profit/Losses over the entire period\n",
    "print(f\"Average Change: ${avg_with_commas}\".replace('$-','-$'))\n",
    "\n",
    "# Calculate the greatest increase in profits (date and amount) over the entire period\n",
    "max = monthly_diff.max()\n",
    "\n",
    "\n",
    "# Add formatting to net total amount of Profit/Losses\n",
    "max_with_commas = '{:,.2f}'.format(max)\n",
    "\n",
    "\n",
    "# Create new column with month\n",
    "\n",
    "\n",
    "\n",
    "\n",
    "\n",
    "# Print the greatest increase in profits (date and amount) over the entire period\n",
    "print(f\"Greatest Increase in Profits: ${max_with_commas}\")\n",
    "\n",
    "#new_df = df[['Date', 'monthly_diff']]\n",
    "\n",
    "\n",
    "\n",
    "\n",
    "#monthly_diff.index(max)\n"
   ]
  },
  {
   "cell_type": "code",
   "execution_count": null,
   "metadata": {},
   "outputs": [],
   "source": []
  }
 ],
 "metadata": {
  "kernelspec": {
   "display_name": "Python 3",
   "language": "python",
   "name": "python3"
  },
  "language_info": {
   "codemirror_mode": {
    "name": "ipython",
    "version": 3
   },
   "file_extension": ".py",
   "mimetype": "text/x-python",
   "name": "python",
   "nbconvert_exporter": "python",
   "pygments_lexer": "ipython3",
   "version": "3.7.6"
  }
 },
 "nbformat": 4,
 "nbformat_minor": 4
}
