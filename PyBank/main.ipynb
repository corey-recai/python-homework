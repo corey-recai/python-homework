{
 "cells": [
  {
   "cell_type": "code",
   "execution_count": 37,
   "metadata": {},
   "outputs": [
    {
     "name": "stdout",
     "output_type": "stream",
     "text": [
      "Financial Analysis\n",
      "----------------------------\n",
      "Total Months: 86\n"
     ]
    }
   ],
   "source": [
    "# Import modules\n",
    "import pandas as pd\n",
    "import numpy as np\n",
    "import csv\n",
    "\n",
    "# Read CSV file with Pandas and render a DataFrame\n",
    "df = pd.read_csv (r'budget_data.csv')\n",
    "\n",
    "# Count the number of rows in the Profit/Losses column of the DataFrame\n",
    "count = df['Profit/Losses'].count()\n",
    "\n",
    "# Print the heading of the output\n",
    "print(\"Financial Analysis\")\n",
    "print(\"----------------------------\")\n",
    "\n",
    "# Print the Total number of months\n",
    "print(f\"Total Months: {count}\")"
   ]
  },
  {
   "cell_type": "code",
   "execution_count": null,
   "metadata": {},
   "outputs": [],
   "source": []
  }
 ],
 "metadata": {
  "kernelspec": {
   "display_name": "Python 3",
   "language": "python",
   "name": "python3"
  },
  "language_info": {
   "codemirror_mode": {
    "name": "ipython",
    "version": 3
   },
   "file_extension": ".py",
   "mimetype": "text/x-python",
   "name": "python",
   "nbconvert_exporter": "python",
   "pygments_lexer": "ipython3",
   "version": "3.7.6"
  }
 },
 "nbformat": 4,
 "nbformat_minor": 4
}
